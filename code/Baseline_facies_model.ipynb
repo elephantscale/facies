{
 "cells": [
  {
   "cell_type": "markdown",
   "metadata": {},
   "source": [
    "# Facies Classification\n"
   ]
  },
  {
   "cell_type": "markdown",
   "metadata": {},
   "source": [
    "**What are Facies?**  \n",
    "Sedimentary facies are bodies of sediment that are recognizably distinct from adjacent sediments that resulted from different depositional environments. Generally, geologists distinguish facies by the aspect of the rock or sediment being studied.  \n",
    "\n",
    "**Why are Facies important?**  \n",
    "Important first step in exploration, prospecting, resevoir classification, & field development.  \n",
    "\n",
    "**How data is collected**  \n",
    "Using Seismic reflectors.   Method of exploration geophysics that provides information about the sub-surface structure of the seafloor. The general principle involves sending artificially generated acoustic waves down the water column and into the seafloor, where the different structures and objects within the Earth's crust reflect this energy back according to their acoustic impedance. These reflected energy waves are recorded by hydrophones, and the data are processed to produce a visual representation of the seabed sub-surface.  \n"
   ]
  },
  {
   "cell_type": "markdown",
   "metadata": {},
   "source": [
    "**The nine discrete facies (classes of rocks) are:**   \n",
    "1. Nonmarine sandstone\n",
    "2. Nonmarine coarse siltstone \n",
    "3. Nonmarine fine siltstone \n",
    "4. Marine siltstone and shale \n",
    "5. Mudstone (limestone)\n",
    "6. Wackestone (limestone)\n",
    "7. Dolomite\n",
    "8. Packstone-grainstone (limestone)\n",
    "9. Phylloid-algal bafflestone (limestone)\n",
    "\n",
    "These facies aren't discrete, and gradually blend into one another. Some have neighboring facies that are rather close.  Mislabeling within these neighboring facies can be expected to occur.  The following table lists the facies, their abbreviated labels and their approximate neighbors.\n",
    "\n",
    "Facies |Label| Adjacent Facies\n",
    ":---: | :---: |:--:\n",
    "1 |SS| 2\n",
    "2 |CSiS| 1,3\n",
    "3 |FSiS| 2\n",
    "4 |SiSh| 5\n",
    "5 |MS| 4,6\n",
    "6 |WS| 5,7\n",
    "7 |D| 6,8\n",
    "8 |PS| 6,7,9\n",
    "9 |BS| 7,8\n",
    "\n",
    "\n",
    "Variable |Label| Description\n",
    ":---: | :---: |:--:\n",
    "Gamma ray |GR| Spontaneous emission of gamma ray from rocks\n",
    "Resistivity |ILD_log10| Resistivity of the mud\n",
    "Photoelectric effect |PE| Light shines on a metal\n",
    "Neutron-density porosity difference |DeltaPHI| Neutron density of a formation difference\n",
    "Average neutron-density porosity |PHIND| Average neutron density of a formation\n",
    "Nonmarine/marine indicator |NM_M| Indicator of organic material\n",
    "Relative position |RELPOS| Relative position of geological strata"
   ]
  },
  {
   "cell_type": "code",
   "execution_count": 1,
   "metadata": {},
   "outputs": [
    {
     "name": "stdout",
     "output_type": "stream",
     "text": [
      "0.90\n"
     ]
    }
   ],
   "source": [
    "import xgboost as xgb\n",
    "print(xgb.__version__)"
   ]
  },
  {
   "cell_type": "code",
   "execution_count": 2,
   "metadata": {},
   "outputs": [],
   "source": [
    "%matplotlib inline\n",
    "import pandas as pd\n",
    "from pandas.plotting import scatter_matrix\n",
    "#from pandas.tools.plotting import scatter_matrix\n",
    "from pandas import set_option\n",
    "import numpy as np\n",
    "import matplotlib.pyplot as plt\n",
    "import matplotlib as mpl\n",
    "import seaborn as sns\n",
    "import matplotlib.colors as colors\n",
    "from sklearn import preprocessing\n",
    "from mpl_toolkits.axes_grid1 import make_axes_locatable\n",
    "from sklearn.model_selection import train_test_split, KFold\n",
    "from sklearn.model_selection import learning_curve, GridSearchCV\n",
    "from sklearn.metrics import confusion_matrix, f1_score\n",
    "from sklearn.ensemble import RandomForestClassifier\n",
    "from classification_utilities import display_cm, display_adj_cm"
   ]
  },
  {
   "cell_type": "code",
   "execution_count": 3,
   "metadata": {},
   "outputs": [
    {
     "data": {
      "text/html": [
       "<div>\n",
       "<style scoped>\n",
       "    .dataframe tbody tr th:only-of-type {\n",
       "        vertical-align: middle;\n",
       "    }\n",
       "\n",
       "    .dataframe tbody tr th {\n",
       "        vertical-align: top;\n",
       "    }\n",
       "\n",
       "    .dataframe thead th {\n",
       "        text-align: right;\n",
       "    }\n",
       "</style>\n",
       "<table border=\"1\" class=\"dataframe\">\n",
       "  <thead>\n",
       "    <tr style=\"text-align: right;\">\n",
       "      <th></th>\n",
       "      <th>Facies</th>\n",
       "      <th>Formation</th>\n",
       "      <th>WellName</th>\n",
       "      <th>Depth</th>\n",
       "      <th>GR</th>\n",
       "      <th>ILD_log10</th>\n",
       "      <th>DeltaPHI</th>\n",
       "      <th>PHIND</th>\n",
       "      <th>PE</th>\n",
       "      <th>NM_M</th>\n",
       "      <th>RELPOS</th>\n",
       "    </tr>\n",
       "  </thead>\n",
       "  <tbody>\n",
       "    <tr>\n",
       "      <th>0</th>\n",
       "      <td>3</td>\n",
       "      <td>A1 SH</td>\n",
       "      <td>SHRIMPLIN</td>\n",
       "      <td>2793.0</td>\n",
       "      <td>77.450</td>\n",
       "      <td>0.664</td>\n",
       "      <td>9.900</td>\n",
       "      <td>11.915</td>\n",
       "      <td>4.600</td>\n",
       "      <td>1</td>\n",
       "      <td>1.000</td>\n",
       "    </tr>\n",
       "    <tr>\n",
       "      <th>1</th>\n",
       "      <td>3</td>\n",
       "      <td>A1 SH</td>\n",
       "      <td>SHRIMPLIN</td>\n",
       "      <td>2793.5</td>\n",
       "      <td>78.260</td>\n",
       "      <td>0.661</td>\n",
       "      <td>14.200</td>\n",
       "      <td>12.565</td>\n",
       "      <td>4.100</td>\n",
       "      <td>1</td>\n",
       "      <td>0.979</td>\n",
       "    </tr>\n",
       "    <tr>\n",
       "      <th>2</th>\n",
       "      <td>3</td>\n",
       "      <td>A1 SH</td>\n",
       "      <td>SHRIMPLIN</td>\n",
       "      <td>2794.0</td>\n",
       "      <td>79.050</td>\n",
       "      <td>0.658</td>\n",
       "      <td>14.800</td>\n",
       "      <td>13.050</td>\n",
       "      <td>3.600</td>\n",
       "      <td>1</td>\n",
       "      <td>0.957</td>\n",
       "    </tr>\n",
       "    <tr>\n",
       "      <th>3</th>\n",
       "      <td>3</td>\n",
       "      <td>A1 SH</td>\n",
       "      <td>SHRIMPLIN</td>\n",
       "      <td>2794.5</td>\n",
       "      <td>86.100</td>\n",
       "      <td>0.655</td>\n",
       "      <td>13.900</td>\n",
       "      <td>13.115</td>\n",
       "      <td>3.500</td>\n",
       "      <td>1</td>\n",
       "      <td>0.936</td>\n",
       "    </tr>\n",
       "    <tr>\n",
       "      <th>4</th>\n",
       "      <td>3</td>\n",
       "      <td>A1 SH</td>\n",
       "      <td>SHRIMPLIN</td>\n",
       "      <td>2795.0</td>\n",
       "      <td>74.580</td>\n",
       "      <td>0.647</td>\n",
       "      <td>13.500</td>\n",
       "      <td>13.300</td>\n",
       "      <td>3.400</td>\n",
       "      <td>1</td>\n",
       "      <td>0.915</td>\n",
       "    </tr>\n",
       "    <tr>\n",
       "      <th>...</th>\n",
       "      <td>...</td>\n",
       "      <td>...</td>\n",
       "      <td>...</td>\n",
       "      <td>...</td>\n",
       "      <td>...</td>\n",
       "      <td>...</td>\n",
       "      <td>...</td>\n",
       "      <td>...</td>\n",
       "      <td>...</td>\n",
       "      <td>...</td>\n",
       "      <td>...</td>\n",
       "    </tr>\n",
       "    <tr>\n",
       "      <th>3227</th>\n",
       "      <td>5</td>\n",
       "      <td>C LM</td>\n",
       "      <td>CHURCHMAN BIBLE</td>\n",
       "      <td>3120.5</td>\n",
       "      <td>46.719</td>\n",
       "      <td>0.947</td>\n",
       "      <td>1.828</td>\n",
       "      <td>7.254</td>\n",
       "      <td>3.617</td>\n",
       "      <td>2</td>\n",
       "      <td>0.685</td>\n",
       "    </tr>\n",
       "    <tr>\n",
       "      <th>3228</th>\n",
       "      <td>5</td>\n",
       "      <td>C LM</td>\n",
       "      <td>CHURCHMAN BIBLE</td>\n",
       "      <td>3121.0</td>\n",
       "      <td>44.563</td>\n",
       "      <td>0.953</td>\n",
       "      <td>2.241</td>\n",
       "      <td>8.013</td>\n",
       "      <td>3.344</td>\n",
       "      <td>2</td>\n",
       "      <td>0.677</td>\n",
       "    </tr>\n",
       "    <tr>\n",
       "      <th>3229</th>\n",
       "      <td>5</td>\n",
       "      <td>C LM</td>\n",
       "      <td>CHURCHMAN BIBLE</td>\n",
       "      <td>3121.5</td>\n",
       "      <td>49.719</td>\n",
       "      <td>0.964</td>\n",
       "      <td>2.925</td>\n",
       "      <td>8.013</td>\n",
       "      <td>3.190</td>\n",
       "      <td>2</td>\n",
       "      <td>0.669</td>\n",
       "    </tr>\n",
       "    <tr>\n",
       "      <th>3230</th>\n",
       "      <td>5</td>\n",
       "      <td>C LM</td>\n",
       "      <td>CHURCHMAN BIBLE</td>\n",
       "      <td>3122.0</td>\n",
       "      <td>51.469</td>\n",
       "      <td>0.965</td>\n",
       "      <td>3.083</td>\n",
       "      <td>7.708</td>\n",
       "      <td>3.152</td>\n",
       "      <td>2</td>\n",
       "      <td>0.661</td>\n",
       "    </tr>\n",
       "    <tr>\n",
       "      <th>3231</th>\n",
       "      <td>5</td>\n",
       "      <td>C LM</td>\n",
       "      <td>CHURCHMAN BIBLE</td>\n",
       "      <td>3122.5</td>\n",
       "      <td>50.031</td>\n",
       "      <td>0.970</td>\n",
       "      <td>2.609</td>\n",
       "      <td>6.668</td>\n",
       "      <td>3.295</td>\n",
       "      <td>2</td>\n",
       "      <td>0.653</td>\n",
       "    </tr>\n",
       "  </tbody>\n",
       "</table>\n",
       "<p>3232 rows × 11 columns</p>\n",
       "</div>"
      ],
      "text/plain": [
       "      Facies Formation         WellName   Depth      GR  ILD_log10  DeltaPHI  \\\n",
       "0          3     A1 SH        SHRIMPLIN  2793.0  77.450      0.664     9.900   \n",
       "1          3     A1 SH        SHRIMPLIN  2793.5  78.260      0.661    14.200   \n",
       "2          3     A1 SH        SHRIMPLIN  2794.0  79.050      0.658    14.800   \n",
       "3          3     A1 SH        SHRIMPLIN  2794.5  86.100      0.655    13.900   \n",
       "4          3     A1 SH        SHRIMPLIN  2795.0  74.580      0.647    13.500   \n",
       "...      ...       ...              ...     ...     ...        ...       ...   \n",
       "3227       5      C LM  CHURCHMAN BIBLE  3120.5  46.719      0.947     1.828   \n",
       "3228       5      C LM  CHURCHMAN BIBLE  3121.0  44.563      0.953     2.241   \n",
       "3229       5      C LM  CHURCHMAN BIBLE  3121.5  49.719      0.964     2.925   \n",
       "3230       5      C LM  CHURCHMAN BIBLE  3122.0  51.469      0.965     3.083   \n",
       "3231       5      C LM  CHURCHMAN BIBLE  3122.5  50.031      0.970     2.609   \n",
       "\n",
       "       PHIND     PE  NM_M  RELPOS  \n",
       "0     11.915  4.600     1   1.000  \n",
       "1     12.565  4.100     1   0.979  \n",
       "2     13.050  3.600     1   0.957  \n",
       "3     13.115  3.500     1   0.936  \n",
       "4     13.300  3.400     1   0.915  \n",
       "...      ...    ...   ...     ...  \n",
       "3227   7.254  3.617     2   0.685  \n",
       "3228   8.013  3.344     2   0.677  \n",
       "3229   8.013  3.190     2   0.669  \n",
       "3230   7.708  3.152     2   0.661  \n",
       "3231   6.668  3.295     2   0.653  \n",
       "\n",
       "[3232 rows x 11 columns]"
      ]
     },
     "execution_count": 3,
     "metadata": {},
     "output_type": "execute_result"
    }
   ],
   "source": [
    "set_option(\"display.max_rows\", 10)\n",
    "pd.options.mode.chained_assignment = None\n",
    "\n",
    "filename = '../data/training_data_clean.csv'\n",
    "training_data = pd.read_csv(filename)\n",
    "training_data"
   ]
  },
  {
   "cell_type": "code",
   "execution_count": 4,
   "metadata": {},
   "outputs": [
    {
     "name": "stdout",
     "output_type": "stream",
     "text": [
      "<class 'pandas.core.frame.DataFrame'>\n",
      "RangeIndex: 3232 entries, 0 to 3231\n",
      "Data columns (total 11 columns):\n",
      "Facies       3232 non-null int64\n",
      "Formation    3232 non-null category\n",
      "WellName     3232 non-null category\n",
      "Depth        3232 non-null float64\n",
      "GR           3232 non-null float64\n",
      "ILD_log10    3232 non-null float64\n",
      "DeltaPHI     3232 non-null float64\n",
      "PHIND        3232 non-null float64\n",
      "PE           3232 non-null float64\n",
      "NM_M         3232 non-null int64\n",
      "RELPOS       3232 non-null float64\n",
      "dtypes: category(2), float64(7), int64(2)\n",
      "memory usage: 234.8 KB\n"
     ]
    }
   ],
   "source": [
    "training_data['WellName'] = training_data['WellName'].astype('category')\n",
    "training_data['Formation'] = training_data['Formation'].astype('category')\n",
    "training_data.info()"
   ]
  },
  {
   "cell_type": "code",
   "execution_count": 5,
   "metadata": {
    "scrolled": true
   },
   "outputs": [
    {
     "data": {
      "text/plain": [
       "<matplotlib.axes._subplots.AxesSubplot at 0x1a21f12198>"
      ]
     },
     "execution_count": 5,
     "metadata": {},
     "output_type": "execute_result"
    },
    {
     "data": {
      "image/png": "[encoded data removed]",
      "text/plain": [
       "<Figure size 432x288 with 1 Axes>"
      ]
     },
     "metadata": {
      "needs_background": "light"
     },
     "output_type": "display_data"
    }
   ],
   "source": [
    "#Find distributions of training Data\n",
    "facies_colors = ['#F4D03F', '#F5B041','#DC7633','#6E2C00','#1B4F72',\n",
    "                 '#2E86C1', '#AED6F1', '#A569BD', '#196F3D']\n",
    "\n",
    "facies_labels = ['SS', 'CSiS', 'FSiS', 'SiSh', 'MS','WS', 'D','PS', 'BS']\n",
    "\n",
    "facies_counts = training_data['Facies'].value_counts().sort_index()\n",
    "facies_counts.index = facies_labels\n",
    "facies_counts.plot(kind='bar',color=facies_colors,title='Distribution of Training Data by Facies')"
   ]
  },
  {
   "cell_type": "markdown",
   "metadata": {},
   "source": [
    "Would like to understand the more valuable Facies to keep track of and why Nonmarine coarse siltstone/CSIS and Nonmarine fine siltstone/FSis have the largest distributions.  "
   ]
  },
  {
   "cell_type": "code",
   "execution_count": 6,
   "metadata": {},
   "outputs": [
    {
     "data": {
      "text/plain": [
       "<matplotlib.axes._subplots.AxesSubplot at 0x1a22d29978>"
      ]
     },
     "execution_count": 6,
     "metadata": {},
     "output_type": "execute_result"
    },
    {
     "data": {
      "image/png": "[encoded data removed]",
      "text/plain": [
       "<Figure size 720x720 with 2 Axes>"
      ]
     },
     "metadata": {
      "needs_background": "light"
     },
     "output_type": "display_data"
    }
   ],
   "source": [
    "plt.figure(figsize=(10, 10))\n",
    "sns.heatmap(training_data.corr(), cmap=\"Blues\", square=True)\n"
   ]
  },
  {
   "cell_type": "markdown",
   "metadata": {},
   "source": [
    "Correlation plot to observe relationship between variables.  \n",
    "Target variable **Facies** is highly correlated to the following variables:  \n",
    "ILD_log10, PE, and NM_M  "
   ]
  },
  {
   "cell_type": "markdown",
   "metadata": {},
   "source": [
    "# Data Analysis\n",
    "---\n",
    "XGboost an algorithim used for machine learning for structured or tabular data.  \n",
    "Implementation of gradient boosted decision trees decsigned for speed and performance."
   ]
  },
  {
   "cell_type": "code",
   "execution_count": 7,
   "metadata": {},
   "outputs": [
    {
     "name": "stderr",
     "output_type": "stream",
     "text": [
      "/Users/johnvictorifermo/anaconda3/lib/python3.7/site-packages/xgboost/core.py:587: FutureWarning: Series.base is deprecated and will be removed in a future version\n",
      "  if getattr(data, 'base', None) is not None and \\\n"
     ]
    },
    {
     "data": {
      "text/plain": [
       "pandas.core.series.Series"
      ]
     },
     "execution_count": 7,
     "metadata": {},
     "output_type": "execute_result"
    }
   ],
   "source": [
    "X_train = training_data.drop(['Facies','WellName','Formation','Depth'], axis = 1 ) \n",
    "Y_train = training_data['Facies' ] - 1\n",
    "dtrain = xgb.DMatrix(X_train, Y_train)\n",
    "type(Y_train)"
   ]
  },
  {
   "cell_type": "code",
   "execution_count": 8,
   "metadata": {},
   "outputs": [],
   "source": [
    "def accuracy(conf):\n",
    "    total_correct = 0.\n",
    "    nb_classes = conf.shape[0]\n",
    "    for i in np.arange(0,nb_classes):\n",
    "        total_correct += conf[i][i]\n",
    "    acc = total_correct/sum(sum(conf))\n",
    "    return acc\n",
    "\n",
    "adjacent_facies = np.array([[1], [0,2], [1], [4], [3,5], [4,6,7], [5,7], [5,6,8], [6,7]])\n",
    "\n",
    "def accuracy_adjacent(conf, adjacent_facies):\n",
    "    nb_classes = conf.shape[0]\n",
    "    total_correct = 0.\n",
    "    for i in np.arange(0,nb_classes):\n",
    "        total_correct += conf[i][i]\n",
    "        for j in adjacent_facies[i]:\n",
    "            total_correct += conf[i][j]\n",
    "    return total_correct / sum(sum(conf))"
   ]
  },
  {
   "cell_type": "code",
   "execution_count": 9,
   "metadata": {
    "scrolled": true
   },
   "outputs": [
    {
     "name": "stdout",
     "output_type": "stream",
     "text": [
      "\n",
      "Cross Validation Training Report Summary\n",
      "     train-merror-mean  train-merror-std  test-merror-mean  test-merror-std\n",
      "495           0.098014          0.001482          0.291675         0.023596\n",
      "496           0.097739          0.001653          0.291366         0.023946\n",
      "497           0.097292          0.001795          0.291994         0.024048\n",
      "498           0.096879          0.001719          0.291680         0.023979\n",
      "499           0.096845          0.001784          0.291994         0.024048\n",
      "\n",
      "Model Report\n",
      "-Accuracy: 0.898205\n",
      "-Adjacent Accuracy: 0.981436\n",
      "\n",
      "Confusion Matrix\n",
      "     Pred    SS  CSiS  FSiS  SiSh    MS    WS     D    PS    BS Total\n",
      "     True\n",
      "       SS   218    38     3                                       259\n",
      "     CSiS     7   685    46                                       738\n",
      "     FSiS          70   543                 1           1         615\n",
      "     SiSh           1     1   163          13           6         184\n",
      "       MS           2     1     3   183    21           7         217\n",
      "       WS           1           4     6   424     1    26         462\n",
      "        D           1                       3    84     7     3    98\n",
      "       PS                 4     6     2    38         447     1   498\n",
      "       BS                                   3           2   156   161\n",
      "\n",
      "Precision  0.97  0.86  0.91  0.93  0.96  0.84  0.99  0.90  0.97  0.90\n",
      "   Recall  0.84  0.93  0.88  0.89  0.84  0.92  0.86  0.90  0.97  0.90\n",
      "       F1  0.90  0.89  0.90  0.91  0.90  0.88  0.92  0.90  0.97  0.90\n",
      "CPU times: user 2min 56s, sys: 1.02 s, total: 2min 57s\n",
      "Wall time: 2min 59s\n"
     ]
    },
    {
     "data": {
      "text/plain": [
       "Text(0, 0.5, 'Feature Importance Score')"
      ]
     },
     "execution_count": 9,
     "metadata": {},
     "output_type": "execute_result"
    },
    {
     "data": {
      "image/png": "[encoded data removed]",
      "text/plain": [
       "<Figure size 432x288 with 1 Axes>"
      ]
     },
     "metadata": {
      "needs_background": "light"
     },
     "output_type": "display_data"
    }
   ],
   "source": [
    "%%time\n",
    "# Cross Validation parameters\n",
    "cv_folds = 10\n",
    "rounds = 100 \n",
    "\n",
    "# Proposed Initial Model\n",
    "xgb1 = xgb.XGBClassifier( learning_rate =0.01, n_estimators=500, max_depth=6,\n",
    "                          min_child_weight=1, gamma=0, subsample=0.8,\n",
    "                          colsample_bytree=0.8, objective='multi:softmax',\n",
    "                          nthread=4, scale_pos_weight=1, seed=27)\n",
    "\n",
    "xgb_param_1 = xgb1.get_xgb_params()\n",
    "xgb_param_1['num_class'] = 9\n",
    "\n",
    "# Perform cross-validation\n",
    "cvresult = xgb.cv(xgb_param_1, dtrain, num_boost_round=xgb_param_1['n_estimators'], \n",
    "                  stratified = True, nfold=cv_folds, metrics='merror', early_stopping_rounds=rounds)\n",
    "\n",
    "print(\"\\nCross Validation Training Report Summary\")\n",
    "print(cvresult.tail())\n",
    "\n",
    "xgb1.set_params(n_estimators=cvresult.shape[0])\n",
    "\n",
    "\n",
    "#Fit the algorithm on the data\n",
    "xgb1.fit(X_train, Y_train,eval_metric='merror')\n",
    "\n",
    "#Predict training set:\n",
    "\n",
    "predictions = xgb1.predict(X_train)\n",
    "        \n",
    "#Print model report\n",
    "\n",
    "# Confusion Matrix\n",
    "conf = confusion_matrix(Y_train, predictions )\n",
    "\n",
    "# Print Results\n",
    "print(\"\\nModel Report\")\n",
    "print(\"-Accuracy: %.6f\" % ( accuracy(conf) ))\n",
    "print(\"-Adjacent Accuracy: %.6f\" % ( accuracy_adjacent(conf, adjacent_facies) ))\n",
    "\n",
    "print(\"\\nConfusion Matrix\")\n",
    "display_cm(conf, facies_labels, display_metrics=True, hide_zeros=True)\n",
    "# Print Feature Importance\n",
    "feat_imp = pd.Series(xgb1.get_booster().get_fscore()).sort_values(ascending=False)\n",
    "feat_imp.plot(kind='bar', title='Feature Importances')\n",
    "plt.ylabel('Feature Importance Score')"
   ]
  },
  {
   "cell_type": "code",
   "execution_count": 10,
   "metadata": {},
   "outputs": [],
   "source": [
    "# #Different Cross Val_score  with no tuning\n",
    "# from sklearn.model_selection import cross_val_score\n",
    "# from xgboost import XGBClassifier\n",
    "\n",
    "# xgb3=XGBClassifier()\n",
    "\n",
    "# scores=cross_val_score(xgb1, X_train, Y_train, cv=3, scoring='f1_macro')\n",
    "# print(\"Mean score: {}. Standard deviation {}\".format(scores.mean(), scores.std()))\n",
    "#Got a score of Mean score: 0.47286917221208186. Standard deviation 0.05135143762057667"
   ]
  },
  {
   "cell_type": "code",
   "execution_count": 11,
   "metadata": {
    "scrolled": true
   },
   "outputs": [],
   "source": [
    "# #Show feature importance score\n",
    "# name=X_train.columns\n",
    "# imp_score=xgb1.feature_importances_\n",
    "# imp_data=pd.DataFrame({})\n",
    "# for i in range(len(name)):\n",
    "#     imp_data[name[i]]=[imp_score[i]]\n",
    "# imp_data.plot(kind = 'bar', title =\"Feature Importance\")\n",
    "# plt.xlabel('Features')\n",
    "# plt.show()"
   ]
  },
  {
   "cell_type": "code",
   "execution_count": 12,
   "metadata": {},
   "outputs": [
    {
     "name": "stdout",
     "output_type": "stream",
     "text": [
      "Parameter optimization\n"
     ]
    },
    {
     "name": "stderr",
     "output_type": "stream",
     "text": [
      "/Users/johnvictorifermo/anaconda3/lib/python3.7/site-packages/sklearn/model_selection/_split.py:1978: FutureWarning: The default value of cv will change from 3 to 5 in version 0.22. Specify it explicitly to silence this warning.\n",
      "  warnings.warn(CV_WARNING, FutureWarning)\n"
     ]
    },
    {
     "name": "stdout",
     "output_type": "stream",
     "text": [
      "Best Set of Parameters\n"
     ]
    },
    {
     "data": {
      "text/plain": [
       "({'mean_fit_time': array([ 4.08487558,  8.44915485, 20.390968  ,  4.07447902,  8.15312052,\n",
       "         24.98362803,  5.4610556 ,  8.59291458, 20.23763267]),\n",
       "  'std_fit_time': array([0.06772729, 0.10552927, 0.39892861, 0.08480875, 0.07597256,\n",
       "         0.29738275, 1.97845623, 0.44415189, 0.35287662]),\n",
       "  'mean_score_time': array([0.13541365, 0.30846357, 1.32822434, 0.12865925, 0.29214478,\n",
       "         1.70695297, 0.17985129, 0.28032907, 2.09800625]),\n",
       "  'std_score_time': array([0.00526467, 0.00877326, 0.07022219, 0.00873655, 0.03614608,\n",
       "         0.04221084, 0.03366374, 0.01923584, 0.62264572]),\n",
       "  'param_learning_rate': masked_array(data=[0.001, 0.001, 0.001, 0.01, 0.01, 0.01, 0.05, 0.05,\n",
       "                     0.05],\n",
       "               mask=[False, False, False, False, False, False, False, False,\n",
       "                     False],\n",
       "         fill_value='?',\n",
       "              dtype=object),\n",
       "  'param_n_estimators': masked_array(data=[100, 200, 500, 100, 200, 500, 100, 200, 500],\n",
       "               mask=[False, False, False, False, False, False, False, False,\n",
       "                     False],\n",
       "         fill_value='?',\n",
       "              dtype=object),\n",
       "  'params': [{'learning_rate': 0.001, 'n_estimators': 100},\n",
       "   {'learning_rate': 0.001, 'n_estimators': 200},\n",
       "   {'learning_rate': 0.001, 'n_estimators': 500},\n",
       "   {'learning_rate': 0.01, 'n_estimators': 100},\n",
       "   {'learning_rate': 0.01, 'n_estimators': 200},\n",
       "   {'learning_rate': 0.01, 'n_estimators': 500},\n",
       "   {'learning_rate': 0.05, 'n_estimators': 100},\n",
       "   {'learning_rate': 0.05, 'n_estimators': 200},\n",
       "   {'learning_rate': 0.05, 'n_estimators': 500}],\n",
       "  'split0_test_score': array([0.57685185, 0.58425926, 0.58796296, 0.58333333, 0.57222222,\n",
       "         0.56203704, 0.56759259, 0.54907407, 0.54074074]),\n",
       "  'split1_test_score': array([0.48375116, 0.48189415, 0.48375116, 0.47910864, 0.46982358,\n",
       "         0.47632312, 0.46796657, 0.45868152, 0.45589601]),\n",
       "  'split2_test_score': array([0.55627907, 0.55255814, 0.55534884, 0.55162791, 0.55255814,\n",
       "         0.55255814, 0.55348837, 0.54604651, 0.52651163]),\n",
       "  'mean_test_score': array([0.53898515, 0.53960396, 0.54238861, 0.53805693, 0.53155941,\n",
       "         0.53032178, 0.52970297, 0.51794554, 0.50773515]),\n",
       "  'std_test_score': array([0.03994045, 0.04280137, 0.04353946, 0.04363724, 0.04437598,\n",
       "         0.03836963, 0.04402234, 0.0419145 , 0.03710491]),\n",
       "  'rank_test_score': array([3, 2, 1, 4, 5, 6, 7, 8, 9], dtype=int32)},\n",
       " {'learning_rate': 0.001, 'n_estimators': 500},\n",
       " 0.5423886138613861)"
      ]
     },
     "execution_count": 12,
     "metadata": {},
     "output_type": "execute_result"
    }
   ],
   "source": [
    "print(\"Parameter optimization\")\n",
    "grid_search1 = GridSearchCV(xgb1,{'learning_rate':[0.001,0.01,0.05] , 'n_estimators':[100,200,500]},\n",
    "                                   scoring='accuracy' , n_jobs = 4)\n",
    "grid_search1.fit(X_train,Y_train)\n",
    "print(\"Best Set of Parameters\")\n",
    "grid_search1.cv_results_, grid_search1.best_params_, grid_search1.best_score_"
   ]
  },
  {
   "cell_type": "code",
   "execution_count": 13,
   "metadata": {},
   "outputs": [
    {
     "name": "stdout",
     "output_type": "stream",
     "text": [
      "\n",
      "Cross Validation Training Report Summary\n",
      "     train-merror-mean  train-merror-std  test-merror-mean  test-merror-std\n",
      "241           0.253919          0.003234          0.341899         0.031481\n",
      "242           0.253851          0.003214          0.342517         0.031224\n",
      "243           0.253885          0.003019          0.342517         0.031224\n",
      "244           0.253885          0.003321          0.342208         0.031714\n",
      "245           0.254126          0.003001          0.341588         0.031649\n",
      "\n",
      "Confusion Matrix\n",
      "     Pred    SS  CSiS  FSiS  SiSh    MS    WS     D    PS    BS Total\n",
      "     True\n",
      "       SS   218    38     3                                       259\n",
      "     CSiS     7   685    46                                       738\n",
      "     FSiS          70   543                 1           1         615\n",
      "     SiSh           1     1   163          13           6         184\n",
      "       MS           2     1     3   183    21           7         217\n",
      "       WS           1           4     6   424     1    26         462\n",
      "        D           1                       3    84     7     3    98\n",
      "       PS                 4     6     2    38         447     1   498\n",
      "       BS                                   3           2   156   161\n",
      "\n",
      "Precision  0.97  0.86  0.91  0.93  0.96  0.84  0.99  0.90  0.97  0.90\n",
      "   Recall  0.84  0.93  0.88  0.89  0.84  0.92  0.86  0.90  0.97  0.90\n",
      "       F1  0.90  0.89  0.90  0.91  0.90  0.88  0.92  0.90  0.97  0.90\n",
      "\n",
      "Model Report\n",
      "-Accuracy: 0.898205\n",
      "-Adjacent Accuracy: 0.981436\n"
     ]
    }
   ],
   "source": [
    "#Final Model\n",
    "cv_folds = 10\n",
    "rounds = 100\n",
    "xgb_final = xgb.XGBClassifier( learning_rate =0.001, n_estimators=500, max_depth=6,\n",
    "                               min_child_weight=1, gamma=0, subsample=0.8, reg_alpha = 1,\n",
    "                               colsample_bytree=0.8, objective='multi:softmax',\n",
    "                               nthread=4, scale_pos_weight=1, seed=27)\n",
    "\n",
    "xgb_param_final = xgb_final.get_xgb_params()\n",
    "xgb_param_final['num_class'] = 9\n",
    "\n",
    "# Perform cross-validation\n",
    "cvresult = xgb.cv(xgb_param_final, dtrain, num_boost_round=xgb_param_final['n_estimators'], \n",
    "                  nfold=cv_folds, metrics='merror', early_stopping_rounds=rounds)\n",
    "\n",
    "print(\"\\nCross Validation Training Report Summary\")\n",
    "print(cvresult.tail())\n",
    "\n",
    "xgb_final.set_params(n_estimators=cvresult.shape[0])\n",
    "\n",
    "\n",
    "#Fit the algorithm on the data\n",
    "xgb_final.fit(X_train, Y_train,eval_metric='merror')\n",
    "\n",
    "#Predict training set:\n",
    "predictions = xgb_final.predict(X_train)\n",
    "        \n",
    "#Print model report\n",
    "\n",
    "# Confusion Matrix\n",
    "print(\"\\nConfusion Matrix\")\n",
    "display_cm(conf, facies_labels, display_metrics=True, hide_zeros=True)\n",
    "\n",
    "# Print Results\n",
    "print(\"\\nModel Report\")\n",
    "print(\"-Accuracy: %.6f\" % ( accuracy(conf) ))\n",
    "print(\"-Adjacent Accuracy: %.6f\" % ( accuracy_adjacent(conf, adjacent_facies) ))"
   ]
  },
  {
   "cell_type": "markdown",
   "metadata": {},
   "source": [
    "# Results\n",
    "\n",
    "Check performance of model"
   ]
  },
  {
   "cell_type": "code",
   "execution_count": 14,
   "metadata": {},
   "outputs": [
    {
     "name": "stderr",
     "output_type": "stream",
     "text": [
      "UsageError: Line magic function `%%time` not found.\n"
     ]
    }
   ],
   "source": [
    "# Import data\n",
    "%%time\n",
    "filename = '../data/training_data_clean.csv'\n",
    "data = pd.read_csv(filename)\n",
    "\n",
    "data['WellName'] = data['WellName'].astype('category')\n",
    "data['Formation'] = data['Formation'].astype('category')\n",
    "\n",
    "# Leave out one well for prediction\n",
    "well_names = data['WellName'].unique()\n",
    "f1=[]\n",
    "for i in range(len(well_names)):\n",
    "    \n",
    "    # Split data\n",
    "    X_train = data.drop(['Facies', 'Formation','Depth'], axis = 1 ) \n",
    "    Y_train = data['Facies' ] - 1\n",
    "    \n",
    "    train_X = X_train[X_train['WellName'] != well_names[i] ]\n",
    "    train_Y = Y_train[X_train['WellName'] != well_names[i] ]\n",
    "    test_X  = X_train[X_train['WellName'] == well_names[i] ]\n",
    "    test_Y  = Y_train[X_train['WellName'] == well_names[i] ]\n",
    "\n",
    "    train_X = train_X.drop(['WellName'], axis = 1 ) \n",
    "    test_X = test_X.drop(['WellName'], axis = 1 )\n",
    "\n",
    "    # Model\n",
    "    model_final = xgb.XGBClassifier( learning_rate =0.001, n_estimators=500, max_depth=6,\n",
    "                                   min_child_weight=1, gamma=0, subsample=0.8, reg_alpha = 10,\n",
    "                                   colsample_bytree=0.8, objective='multi:softmax',\n",
    "                                   nthread=4, scale_pos_weight=1, seed=27)\n",
    "\n",
    "    #Fit the algorithm on the data\n",
    "    model_final.fit( train_X , train_Y , eval_metric = 'merror' )\n",
    "\n",
    "    # model_final = RandomForestClassifier(n_estimators=1000) # RANDOM FORREST\n",
    "    #model_final.fit(train_X, train_Y)\n",
    "\n",
    "    #Predict training set:\n",
    "    predictions = model_final.predict(test_X)\n",
    "\n",
    "    #Print model report\n",
    "    print(\"\\n------------------------------------------------------\")\n",
    "    print(\"Leaving out well \" + well_names[i])\n",
    "    # Confusion Matrix\n",
    "    conf = confusion_matrix( test_Y, predictions, labels = np.arange(9) )\n",
    "    # Print Results\n",
    "    print(\"\\nModel Report\")\n",
    "    print(\"-Accuracy: %.6f\" % ( accuracy(conf) ))\n",
    "    print(\"-Adjacent Accuracy: %.6f\" % ( accuracy_adjacent(conf, adjacent_facies) ))\n",
    "    print(\"-F1 Score: %.6f\" % ( f1_score ( test_Y , predictions , labels = np.arange(9), average = 'weighted' ) ))\n",
    "    f1.append(f1_score ( test_Y , predictions , labels = np.arange(9), average = 'weighted' ))\n",
    "    facies_labels = ['SS', 'CSiS', 'FSiS', 'SiSh', 'MS',\n",
    "                     'WS', 'D','PS', 'BS']\n",
    "    print(\"\\nConfusion Matrix Results\")\n",
    "    from classification_utilities import display_cm, display_adj_cm\n",
    "    display_cm(conf, facies_labels,display_metrics=True, hide_zeros=True)\n",
    "    \n",
    "print(\"\\n------------------------------------------------------\")\n",
    "print(\"Final Results\")\n",
    "print(\"-Average F1 Score: %6f\" % (sum(f1)/(1.0*len(f1))))"
   ]
  }
 ],
 "metadata": {
  "kernelspec": {
   "display_name": "Python 3",
   "language": "python",
   "name": "python3"
  },
  "language_info": {
   "codemirror_mode": {
    "name": "ipython",
    "version": 3
   },
   "file_extension": ".py",
   "mimetype": "text/x-python",
   "name": "python",
   "nbconvert_exporter": "python",
   "pygments_lexer": "ipython3",
   "version": "3.7.3"
  }
 },
 "nbformat": 4,
 "nbformat_minor": 2
}
